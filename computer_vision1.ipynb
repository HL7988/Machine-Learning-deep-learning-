{
 "cells": [
  {
   "cell_type": "code",
   "execution_count": 1,
   "id": "8b0715d7",
   "metadata": {},
   "outputs": [],
   "source": [
    "import cv2 as cv"
   ]
  },
  {
   "cell_type": "code",
   "execution_count": 2,
   "id": "d652a354",
   "metadata": {},
   "outputs": [],
   "source": [
    "import numpy as np"
   ]
  },
  {
   "cell_type": "code",
   "execution_count": null,
   "id": "e31b94f4",
   "metadata": {},
   "outputs": [],
   "source": []
  },
  {
   "cell_type": "code",
   "execution_count": 3,
   "id": "3e1e3019",
   "metadata": {},
   "outputs": [],
   "source": [
    "img=cv.imread('./Downloads/car1a.jpg')"
   ]
  },
  {
   "cell_type": "code",
   "execution_count": 3,
   "id": "876e4e6f",
   "metadata": {},
   "outputs": [
    {
     "data": {
      "text/plain": [
       "array([[[ 92,  63,  36],\n",
       "        [ 92,  63,  36],\n",
       "        [ 92,  63,  36],\n",
       "        ...,\n",
       "        [156, 126,  85],\n",
       "        [156, 126,  85],\n",
       "        [156, 126,  85]],\n",
       "\n",
       "       [[ 92,  63,  36],\n",
       "        [ 92,  63,  36],\n",
       "        [ 92,  63,  36],\n",
       "        ...,\n",
       "        [157, 127,  86],\n",
       "        [157, 127,  86],\n",
       "        [157, 127,  86]],\n",
       "\n",
       "       [[ 92,  63,  36],\n",
       "        [ 92,  63,  36],\n",
       "        [ 92,  63,  36],\n",
       "        ...,\n",
       "        [157, 127,  86],\n",
       "        [157, 127,  86],\n",
       "        [157, 127,  86]],\n",
       "\n",
       "       ...,\n",
       "\n",
       "       [[ 61,  42,  27],\n",
       "        [ 59,  43,  27],\n",
       "        [ 59,  42,  29],\n",
       "        ...,\n",
       "        [ 70,  46,  26],\n",
       "        [ 70,  46,  26],\n",
       "        [ 70,  46,  26]],\n",
       "\n",
       "       [[ 65,  45,  28],\n",
       "        [ 63,  44,  29],\n",
       "        [ 63,  42,  34],\n",
       "        ...,\n",
       "        [ 70,  46,  26],\n",
       "        [ 70,  46,  26],\n",
       "        [ 69,  45,  25]],\n",
       "\n",
       "       [[ 65,  45,  27],\n",
       "        [ 65,  44,  29],\n",
       "        [ 63,  41,  35],\n",
       "        ...,\n",
       "        [ 70,  46,  26],\n",
       "        [ 70,  46,  26],\n",
       "        [ 69,  45,  25]]], dtype=uint8)"
      ]
     },
     "execution_count": 3,
     "metadata": {},
     "output_type": "execute_result"
    }
   ],
   "source": [
    "img \n"
   ]
  },
  {
   "cell_type": "code",
   "execution_count": 4,
   "id": "26118567",
   "metadata": {},
   "outputs": [
    {
     "data": {
      "text/plain": [
       "-1"
      ]
     },
     "execution_count": 4,
     "metadata": {},
     "output_type": "execute_result"
    }
   ],
   "source": [
    "\n",
    "cv.imshow('car',img)\n",
    "cv.waitKey(0)"
   ]
  },
  {
   "cell_type": "code",
   "execution_count": 5,
   "id": "aeaff58b",
   "metadata": {},
   "outputs": [],
   "source": [
    "#reading videos\n",
    "#capture=cv.Videocapture(0/1/2/3(for_camera) and path for downloaded)\n",
    "#we read it frame by frame\n",
    "#while True:\n",
    "  # isTrue,frame=capture.read()\n",
    "   # frame_resize=rescaleFrame(frame) //for resizing \n",
    "   # cv.imshow('video_resized', frame)\n",
    "   # if cv.waitkey(20)& 0xFF==ord('d') (means if d is pressed then stop the video)\n",
    "         # break\n",
    "#capture.release()\n",
    "#cv.destroyAllwindows()"
   ]
  },
  {
   "cell_type": "code",
   "execution_count": 6,
   "id": "a0eccfc2",
   "metadata": {},
   "outputs": [
    {
     "data": {
      "text/plain": [
       "'def rescaleFrame(frame, scale0.75):\\n    width= int(frame.shape[1] * scale)\\n    height = int(frame.shape[0]*scale)\\n    dimensions= (width, height)\\n    return cv.resize(frame, dimensions, interpolation=cv.INTER_AREA)'"
      ]
     },
     "execution_count": 6,
     "metadata": {},
     "output_type": "execute_result"
    }
   ],
   "source": [
    "'''def rescaleFrame(frame, scale0.75):\n",
    "    width= int(frame.shape[1] * scale)\n",
    "    height = int(frame.shape[0]*scale)\n",
    "    dimensions= (width, height)\n",
    "    return cv.resize(frame, dimensions, interpolation=cv.INTER_AREA)'''"
   ]
  },
  {
   "cell_type": "code",
   "execution_count": null,
   "id": "147bbd50",
   "metadata": {},
   "outputs": [],
   "source": [
    "#for changing only live videos resolution we use \n",
    "\n",
    "def changeRes(width, height):\n",
    "    capture.set(3,width)\n",
    "    capture.set(4,height)\n",
    "    \n",
    "capture=cv.videocapture('videos/dog.mp4')"
   ]
  },
  {
   "cell_type": "code",
   "execution_count": 4,
   "id": "581cbba0",
   "metadata": {},
   "outputs": [
    {
     "data": {
      "text/plain": [
       "(500, 500, 3)"
      ]
     },
     "execution_count": 4,
     "metadata": {},
     "output_type": "execute_result"
    }
   ],
   "source": [
    "blank=np.zeros((500,500,3),dtype= 'uint8')\n",
    "blank.shape"
   ]
  },
  {
   "cell_type": "code",
   "execution_count": 5,
   "id": "ccc4f56b",
   "metadata": {},
   "outputs": [
    {
     "data": {
      "text/plain": [
       "\"cv.imshow('Blank', blank)\\ncv.waitKey(0)\""
      ]
     },
     "execution_count": 5,
     "metadata": {},
     "output_type": "execute_result"
    }
   ],
   "source": [
    "'''cv.imshow('Blank', blank)\n",
    "cv.waitKey(0)'''"
   ]
  },
  {
   "cell_type": "code",
   "execution_count": 6,
   "id": "a1793117",
   "metadata": {},
   "outputs": [
    {
     "ename": "SyntaxError",
     "evalue": "EOF while scanning triple-quoted string literal (Temp/ipykernel_12284/306123683.py, line 3)",
     "output_type": "error",
     "traceback": [
      "\u001b[1;36m  File \u001b[1;32m\"C:\\Users\\msi1\\AppData\\Local\\Temp/ipykernel_12284/306123683.py\"\u001b[1;36m, line \u001b[1;32m3\u001b[0m\n\u001b[1;33m    cv.waitKey(0)\u001b[0m\n\u001b[1;37m                 \n^\u001b[0m\n\u001b[1;31mSyntaxError\u001b[0m\u001b[1;31m:\u001b[0m EOF while scanning triple-quoted string literal\n"
     ]
    }
   ],
   "source": [
    "'''blank[:]= 0,255,0\n",
    "cv.imshow('Green', blank)\n",
    "cv.waitKey(0)"
   ]
  },
  {
   "cell_type": "code",
   "execution_count": 7,
   "id": "76237d54",
   "metadata": {},
   "outputs": [
    {
     "ename": "SyntaxError",
     "evalue": "EOF while scanning triple-quoted string literal (Temp/ipykernel_12284/2188919620.py, line 4)",
     "output_type": "error",
     "traceback": [
      "\u001b[1;36m  File \u001b[1;32m\"C:\\Users\\msi1\\AppData\\Local\\Temp/ipykernel_12284/2188919620.py\"\u001b[1;36m, line \u001b[1;32m4\u001b[0m\n\u001b[1;33m    cv.waitKey(0)\u001b[0m\n\u001b[1;37m                 \n^\u001b[0m\n\u001b[1;31mSyntaxError\u001b[0m\u001b[1;31m:\u001b[0m EOF while scanning triple-quoted string literal\n"
     ]
    }
   ],
   "source": [
    "'''#colouring a certain portion \n",
    "blank[200:300, 300:400]=0,0,255\n",
    "cv.imshow('Green', blank)\n",
    "cv.waitKey(0)"
   ]
  },
  {
   "cell_type": "code",
   "execution_count": null,
   "id": "01d7dcf4",
   "metadata": {},
   "outputs": [],
   "source": [
    "#drawing the rectangle\n",
    "cv.rectangle(blank, (0,0),(250,250),(0,255,0), thickness=cv.FILLED)\n",
    "#or we can use( blank.shape[1]//2, blank.shape[0]//2)\n",
    "cv.imshow('reactangle',blank)\n",
    "cv.waitKey(0)"
   ]
  },
  {
   "cell_type": "code",
   "execution_count": null,
   "id": "707e42ab",
   "metadata": {},
   "outputs": [],
   "source": [
    "cv.circle(blank,( blank.shape[1]//2, blank.shape[0]//2),40,(0,0,255), thickness=5 )\n",
    "cv.imshow('reactangle',blank)\n",
    "cv.waitKey(0)"
   ]
  },
  {
   "cell_type": "code",
   "execution_count": null,
   "id": "13f3b2b9",
   "metadata": {},
   "outputs": [],
   "source": [
    "#drawing a line \n",
    "cv.line(blank,(0,0),( blank.shape[1]//2, blank.shape[0]//2),(255,255,255), thickness=3)\n",
    "cv.imshow('reactangle',blank)\n",
    "cv.waitKey(0)"
   ]
  },
  {
   "cell_type": "code",
   "execution_count": null,
   "id": "35b16509",
   "metadata": {},
   "outputs": [],
   "source": [
    "#writing txt\n",
    "cv.putText(blank, ' Hello',(255,255), cv.FONT_HERSHEY_TRIPLEX, 1.0, (0,255,0), 2)\n",
    "cv.imshow('text',blank)\n",
    "cv.waitKey(0)"
   ]
  },
  {
   "cell_type": "code",
   "execution_count": 18,
   "id": "ee5ee02c",
   "metadata": {},
   "outputs": [
    {
     "data": {
      "text/plain": [
       "-1"
      ]
     },
     "execution_count": 18,
     "metadata": {},
     "output_type": "execute_result"
    }
   ],
   "source": [
    "# converting an image into grayscale \n",
    "img=cv.imread('./Downloads/car1a.jpg')\n",
    "gray=cv.cvtColor(img, cv.COLOR_BGR2GRAY)\n",
    "cv.imshow('Gray', gray)\n",
    "cv.waitKey(0)"
   ]
  },
  {
   "cell_type": "code",
   "execution_count": 19,
   "id": "e03855f1",
   "metadata": {},
   "outputs": [
    {
     "data": {
      "text/plain": [
       "-1"
      ]
     },
     "execution_count": 19,
     "metadata": {},
     "output_type": "execute_result"
    }
   ],
   "source": [
    "#blur (gaussian blur) KERNAL SIZE (3,3) for blur \n",
    "blur=cv.GaussianBlur(img, (7,7), cv.BORDER_DEFAULT)\n",
    "cv.imshow('Blur', blur)\n",
    "cv.waitKey(0)"
   ]
  },
  {
   "cell_type": "code",
   "execution_count": 21,
   "id": "6a1abbb1",
   "metadata": {},
   "outputs": [
    {
     "data": {
      "text/plain": [
       "-1"
      ]
     },
     "execution_count": 21,
     "metadata": {},
     "output_type": "execute_result"
    }
   ],
   "source": [
    "#edge cascade \n",
    "canny= cv.Canny(blur, 125, 175)\n",
    "cv.imshow('canny', canny)\n",
    "cv.waitKey(0)"
   ]
  },
  {
   "cell_type": "code",
   "execution_count": 22,
   "id": "6e220b28",
   "metadata": {},
   "outputs": [
    {
     "data": {
      "text/plain": [
       "-1"
      ]
     },
     "execution_count": 22,
     "metadata": {},
     "output_type": "execute_result"
    }
   ],
   "source": [
    "#dialting an image \n",
    "dilated=cv.dilate(canny,(3,3), iterations=1)\n",
    "cv.imshow('dilated', dilated)\n",
    "cv.waitKey(0)"
   ]
  },
  {
   "cell_type": "code",
   "execution_count": 23,
   "id": "bd92d985",
   "metadata": {},
   "outputs": [
    {
     "data": {
      "text/plain": [
       "-1"
      ]
     },
     "execution_count": 23,
     "metadata": {},
     "output_type": "execute_result"
    }
   ],
   "source": [
    "#eroding\n",
    "eroded=cv.erode(dilated, (3,3), iterations=1)\n",
    "cv.imshow('eroded', eroded)\n",
    "cv.waitKey(0)"
   ]
  },
  {
   "cell_type": "code",
   "execution_count": 24,
   "id": "27fe4cf2",
   "metadata": {},
   "outputs": [
    {
     "data": {
      "text/plain": [
       "-1"
      ]
     },
     "execution_count": 24,
     "metadata": {},
     "output_type": "execute_result"
    }
   ],
   "source": [
    "#resize\n",
    "resized=cv.resize(img, (500,500), interpolation=cv.INTER_CUBIC)\n",
    "cv.imshow('resized', resized)\n",
    "cv.waitKey(0)\n",
    "\n",
    "cropped=img[50:200, 200:400]\n",
    "cv.imshow('cropped',cropped)\n",
    "cv.waitKey(0)"
   ]
  },
  {
   "cell_type": "code",
   "execution_count": 25,
   "id": "7e988883",
   "metadata": {},
   "outputs": [
    {
     "data": {
      "text/plain": [
       "-1"
      ]
     },
     "execution_count": 25,
     "metadata": {},
     "output_type": "execute_result"
    }
   ],
   "source": [
    "#IMAGE TRANSFORMATIONS x,y are the no. of pixels we wanna shift in x and y axis \n",
    "def translate(img,x,y):\n",
    "    transMat=np.float32([[1,0,x],[0,1,y]])\n",
    "    dimensions=(img.shape[1], img.shape[0])\n",
    "    return cv.warpAffine(img,transMat, dimensions)\n",
    "#-ve x ->----left\n",
    "#-ve y -> ----up\n",
    "translated= translate(img,100,100)\n",
    "cv.imshow('translate', translated)\n",
    "cv.waitKey(0)"
   ]
  },
  {
   "cell_type": "code",
   "execution_count": 26,
   "id": "466bc16a",
   "metadata": {},
   "outputs": [
    {
     "data": {
      "text/plain": [
       "-1"
      ]
     },
     "execution_count": 26,
     "metadata": {},
     "output_type": "execute_result"
    }
   ],
   "source": [
    "#stting sclae to 1.0\n",
    "def rotate(img,angle, rotPoint= None):\n",
    "    (height, width)=img.shape[:2]\n",
    "    if rotPoint is None:\n",
    "        rotPoint=(width//2,height//2)\n",
    "    rotMat=cv.getRotationMatrix2D(rotPoint, angle, 1.0)\n",
    "    dimensions= (width,height)\n",
    "    \n",
    "    return cv.warpAffine(img,rotMat,dimensions)\n",
    "rotated=rotate(img, 45)\n",
    "cv.imshow('rotated', rotated)\n",
    "cv.waitKey(0)\n",
    "    "
   ]
  },
  {
   "cell_type": "code",
   "execution_count": 27,
   "id": "399b513a",
   "metadata": {},
   "outputs": [
    {
     "data": {
      "text/plain": [
       "-1"
      ]
     },
     "execution_count": 27,
     "metadata": {},
     "output_type": "execute_result"
    }
   ],
   "source": [
    "#flipping \n",
    "flip=cv.flip(img, 0)\n",
    "cv.imshow('flip',flip)\n",
    "cv.waitKey(0)"
   ]
  },
  {
   "cell_type": "code",
   "execution_count": 8,
   "id": "f34ceef7",
   "metadata": {},
   "outputs": [
    {
     "name": "stdout",
     "output_type": "stream",
     "text": [
      "3857 contours(s) found:\n"
     ]
    },
    {
     "data": {
      "text/plain": [
       "-1"
      ]
     },
     "execution_count": 8,
     "metadata": {},
     "output_type": "execute_result"
    }
   ],
   "source": [
    "#countours \n",
    "gray=cv.cvtColor(img, cv.COLOR_BGR2GRAY)\n",
    "cv.imshow('gray', gray)\n",
    "#canny edge detection\n",
    "canny=cv.Canny(img, 125, 125)\n",
    "cv.imshow('canny edges', canny)\n",
    "contours, hierarchies=cv.findContours(canny, cv.RETR_LIST, cv.CHAIN_APPROX_NONE)\n",
    "print(f'{len(contours)} contours(s) found:')\n",
    "cv.waitKey(0)"
   ]
  },
  {
   "cell_type": "code",
   "execution_count": null,
   "id": "7cb904b5",
   "metadata": {},
   "outputs": [],
   "source": [
    "#it binarises the image\n",
    "#pixels below 125 converted to 0 and above 125 converted to 255\n",
    "ret, thresh=cv.threshold(gray,125,255, cv.THRESH_BINARY)\n",
    "cv.imshow('thresh',thresh)\n",
    "cv.waitKey(0)\n",
    "contours, hierarchies=cv.findContours(thresh, cv.RETR_LIST, cv.CHAIN_APPROX_NONE)\n",
    "print(f'{len(contours)} contours(s) found:')"
   ]
  },
  {
   "cell_type": "code",
   "execution_count": null,
   "id": "e97f06d7",
   "metadata": {},
   "outputs": [],
   "source": [
    "blank=np.zeros(img.shape, dtype='uint8')\n",
    "cv.imshow('blank',blank)\n",
    "cv.waitKey(0)\n",
    "#drawing contours over blank image \n",
    "cv.contours(blank, contours, -1, (0,0,255),2 )\n",
    "#as we want all of contours so -1, thickness=2\n",
    "cv.imshow('thresh',thresh)\n",
    "cv.waitKey(0)"
   ]
  },
  {
   "cell_type": "code",
   "execution_count": null,
   "id": "e82d1129",
   "metadata": {},
   "outputs": [],
   "source": []
  }
 ],
 "metadata": {
  "kernelspec": {
   "display_name": "Python 3 (ipykernel)",
   "language": "python",
   "name": "python3"
  },
  "language_info": {
   "codemirror_mode": {
    "name": "ipython",
    "version": 3
   },
   "file_extension": ".py",
   "mimetype": "text/x-python",
   "name": "python",
   "nbconvert_exporter": "python",
   "pygments_lexer": "ipython3",
   "version": "3.9.7"
  }
 },
 "nbformat": 4,
 "nbformat_minor": 5
}
