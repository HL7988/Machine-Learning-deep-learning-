{
 "cells": [
  {
   "cell_type": "code",
   "execution_count": 35,
   "id": "c8c8dd67",
   "metadata": {},
   "outputs": [],
   "source": [
    "try:\n",
    "    \n",
    "    %tensorflow_version 2.x\n",
    "except Exception:\n",
    "    pass\n"
   ]
  },
  {
   "cell_type": "code",
   "execution_count": 36,
   "id": "dcddfa89",
   "metadata": {},
   "outputs": [],
   "source": [
    "import pandas as pd\n",
    "import tensorflow as tf \n",
    "from tensorflow.keras.models import Model \n",
    "from tensorflow.keras.layers import Input, Flatten,Dense, Dropout,Lambda\n",
    "from tensorflow.keras.optimizers import RMSprop\n",
    "from tensorflow.keras.datasets  import fashion_mnist \n",
    "from tensorflow.keras.utils import plot_model \n",
    "from keras import backend as K\n",
    "\n",
    "import numpy as np\n",
    "import matplotlib.pyplot as plt \n",
    "from PIL import Image,ImageFont, ImageDraw\n",
    "import random "
   ]
  },
  {
   "cell_type": "code",
   "execution_count": 37,
   "id": "27bb8b9c",
   "metadata": {},
   "outputs": [],
   "source": [
    "def create_pairs(x,digit_indices):\n",
    "    '''positive and negative pair creation.\n",
    "    Alternative between positive and negative '''\n",
    "    pairs=[]\n",
    "    labels=[]\n",
    "    n=min([len(digit_indices[d]) for d in range(10)])-1\n",
    "    for d in range(10):\n",
    "        for i in range(n):\n",
    "            z1,z2= digit_indices[d][i], digit_indices[d][i+1]\n",
    "            pairs+=[[x[z1], x[z2]]]\n",
    "            inc= random.randrange(1,10)\n",
    "            dn=(d+inc)%10\n",
    "            z1,z2=digit_indices[d][i], digit_indices[dn][i]\n",
    "            pairs+= [[x[z1], x[z2]]]\n",
    "            labels +=[1,0]\n",
    "            return np.array(pairs), np.array(labels)\n",
    "def create_pairs_on_set(images, labels):\n",
    "    digit_indices= [np.where(labels == i)[0] for i in range(10)]\n",
    "    pairs,y = create_pairs(images, digit_indices)\n",
    "    y=y.astype('float32')\n",
    "    return pairs, y \n"
   ]
  },
  {
   "cell_type": "code",
   "execution_count": 38,
   "id": "e8568bc8",
   "metadata": {},
   "outputs": [],
   "source": [
    "(train_images, train_labels), (test_images, test_labels)= fashion_mnist.load_data()"
   ]
  },
  {
   "cell_type": "code",
   "execution_count": 39,
   "id": "536d1af4",
   "metadata": {},
   "outputs": [
    {
     "data": {
      "text/plain": [
       "array([[[0, 0, 0, ..., 0, 0, 0],\n",
       "        [0, 0, 0, ..., 0, 0, 0],\n",
       "        [0, 0, 0, ..., 0, 0, 0],\n",
       "        ...,\n",
       "        [0, 0, 0, ..., 0, 0, 0],\n",
       "        [0, 0, 0, ..., 0, 0, 0],\n",
       "        [0, 0, 0, ..., 0, 0, 0]],\n",
       "\n",
       "       [[0, 0, 0, ..., 0, 0, 0],\n",
       "        [0, 0, 0, ..., 0, 0, 0],\n",
       "        [0, 0, 0, ..., 0, 0, 0],\n",
       "        ...,\n",
       "        [0, 0, 0, ..., 0, 0, 0],\n",
       "        [0, 0, 0, ..., 0, 0, 0],\n",
       "        [0, 0, 0, ..., 0, 0, 0]],\n",
       "\n",
       "       [[0, 0, 0, ..., 0, 0, 0],\n",
       "        [0, 0, 0, ..., 0, 0, 0],\n",
       "        [0, 0, 0, ..., 0, 0, 0],\n",
       "        ...,\n",
       "        [0, 0, 0, ..., 0, 0, 0],\n",
       "        [0, 0, 0, ..., 0, 0, 0],\n",
       "        [0, 0, 0, ..., 0, 0, 0]],\n",
       "\n",
       "       ...,\n",
       "\n",
       "       [[0, 0, 0, ..., 0, 0, 0],\n",
       "        [0, 0, 0, ..., 0, 0, 0],\n",
       "        [0, 0, 0, ..., 0, 0, 0],\n",
       "        ...,\n",
       "        [0, 0, 0, ..., 0, 0, 0],\n",
       "        [0, 0, 0, ..., 0, 0, 0],\n",
       "        [0, 0, 0, ..., 0, 0, 0]],\n",
       "\n",
       "       [[0, 0, 0, ..., 0, 0, 0],\n",
       "        [0, 0, 0, ..., 0, 0, 0],\n",
       "        [0, 0, 0, ..., 0, 0, 0],\n",
       "        ...,\n",
       "        [0, 0, 0, ..., 0, 0, 0],\n",
       "        [0, 0, 0, ..., 0, 0, 0],\n",
       "        [0, 0, 0, ..., 0, 0, 0]],\n",
       "\n",
       "       [[0, 0, 0, ..., 0, 0, 0],\n",
       "        [0, 0, 0, ..., 0, 0, 0],\n",
       "        [0, 0, 0, ..., 0, 0, 0],\n",
       "        ...,\n",
       "        [0, 0, 0, ..., 0, 0, 0],\n",
       "        [0, 0, 0, ..., 0, 0, 0],\n",
       "        [0, 0, 0, ..., 0, 0, 0]]], dtype=uint8)"
      ]
     },
     "execution_count": 39,
     "metadata": {},
     "output_type": "execute_result"
    }
   ],
   "source": [
    "train_images"
   ]
  },
  {
   "cell_type": "raw",
   "id": "bf97d203",
   "metadata": {},
   "source": []
  },
  {
   "cell_type": "code",
   "execution_count": 40,
   "id": "a4129ec0",
   "metadata": {},
   "outputs": [],
   "source": [
    "train_images= train_images.astype('float32')\n",
    "test_images= test_images.astype('float32')\n",
    "train_images= train_images/255.0\n",
    "test_images= test_images/255.0\n",
    "tr_pairs, tr_y= create_pairs_on_set(train_images, train_labels)\n",
    "ts_pairs, ts_y= create_pairs_on_set(test_images, test_labels)"
   ]
  },
  {
   "cell_type": "code",
   "execution_count": 41,
   "id": "0f62927d",
   "metadata": {},
   "outputs": [],
   "source": [
    "def show_image(image):\n",
    "    plt.figure()\n",
    "    plt.imshow(image)\n",
    "    plt.colorbar()\n",
    "    plt.grid(False)\n",
    "    plt.show()"
   ]
  },
  {
   "cell_type": "code",
   "execution_count": 46,
   "id": "c160b5ea",
   "metadata": {},
   "outputs": [],
   "source": [
    "def initialize_base_network():\n",
    "    input= Input(shape=(28,28,), name='base_input')\n",
    "    x=Flatten(name=\"flatten_input\")(input)\n",
    "    x=Dense(128,activation='relu', name=\"first_base_dense\")(x)\n",
    "    x=Dropout(0.1, name=\"first_droupout\")(x)\n",
    "    x=Dense(128,activation='relu', name=\"second_base_dense\")(x)\n",
    "    x=Dropout(0.1, name=\"second_droupout\")(x)\n",
    "    x=Dense(128,activation='relu', name=\"third_base_dense\")(x)\n",
    "    return Model(inputs=input, outputs=x)\n",
    "\n",
    "def euclidean_distance(vects):\n",
    "    x,y=vects\n",
    "    sum_square =K.sum(K.square(x-y), axis=1, keepdims=True)\n",
    "    return K.sqrt(K.maximum(sum_square, K.epsilon()))\n",
    "\n",
    "def eucl_dist_output_shape(shapes):\n",
    "    return(shape1[0], 1)\n",
    "\n",
    "\n",
    "base_network= initialize_base_network()\n",
    "#plot_model(base_network, show_shapes=True, show_layer_names=True, to_file='base-model1.png')"
   ]
  },
  {
   "cell_type": "code",
   "execution_count": 47,
   "id": "bbc5bc32",
   "metadata": {},
   "outputs": [
    {
     "name": "stdout",
     "output_type": "stream",
     "text": [
      "You must install pydot (`pip install pydot`) and install graphviz (see instructions at https://graphviz.gitlab.io/download/) for plot_model/model_to_dot to work.\n"
     ]
    }
   ],
   "source": [
    "# create the left input and point to the base network\n",
    "input_a = Input(shape=(28,28,), name=\"left_input\")\n",
    "vect_output_a = base_network(input_a)\n",
    "\n",
    "# create the right input and point to the base network\n",
    "input_b = Input(shape=(28,28,), name=\"right_input\")\n",
    "vect_output_b = base_network(input_b)\n",
    "\n",
    "# measure the similarity of the two vector outputs\n",
    "output = Lambda(euclidean_distance, name=\"output_layer\", output_shape=eucl_dist_output_shape)([vect_output_a, vect_output_b])\n",
    "\n",
    "# specify the inputs and output of the model\n",
    "model = Model([input_a, input_b], output)\n",
    "\n",
    "# plot model graph\n",
    "plot_model(model, show_shapes=True, show_layer_names=True, to_file='outer-model.png')"
   ]
  },
  {
   "cell_type": "code",
   "execution_count": 48,
   "id": "35d26abc",
   "metadata": {},
   "outputs": [],
   "source": [
    "def contrastive_loss_with_margin(margin):\n",
    "    def contrastive_loss(y_true, y_pred):\n",
    "        '''Contrastive loss from Hadsell-et-al.'06\n",
    "        http://yann.lecun.com/exdb/publis/pdf/hadsell-chopra-lecun-06.pdf\n",
    "        '''\n",
    "        square_pred = K.square(y_pred)\n",
    "        margin_square = K.square(K.maximum(margin - y_pred, 0))\n",
    "        return K.mean(y_true * square_pred + (1 - y_true) * margin_square)\n",
    "    return contrastive_loss"
   ]
  },
  {
   "cell_type": "code",
   "execution_count": 50,
   "id": "26e82f8b",
   "metadata": {},
   "outputs": [
    {
     "name": "stdout",
     "output_type": "stream",
     "text": [
      "Epoch 1/20\n",
      "1/1 [==============================] - 1s 857ms/step - loss: 3.2400 - val_loss: 0.3100\n",
      "Epoch 2/20\n",
      "1/1 [==============================] - 0s 23ms/step - loss: 3.7258 - val_loss: 0.2735\n",
      "Epoch 3/20\n",
      "1/1 [==============================] - 0s 27ms/step - loss: 1.8446 - val_loss: 0.2331\n",
      "Epoch 4/20\n",
      "1/1 [==============================] - 0s 22ms/step - loss: 0.3111 - val_loss: 0.2306\n",
      "Epoch 5/20\n",
      "1/1 [==============================] - 0s 25ms/step - loss: 0.4466 - val_loss: 0.1521\n",
      "Epoch 6/20\n",
      "1/1 [==============================] - 0s 26ms/step - loss: 0.4069 - val_loss: 0.1932\n",
      "Epoch 7/20\n",
      "1/1 [==============================] - 0s 29ms/step - loss: 0.3913 - val_loss: 0.1729\n",
      "Epoch 8/20\n",
      "1/1 [==============================] - 0s 27ms/step - loss: 0.2063 - val_loss: 0.1634\n",
      "Epoch 9/20\n",
      "1/1 [==============================] - 0s 28ms/step - loss: 0.2126 - val_loss: 0.2008\n",
      "Epoch 10/20\n",
      "1/1 [==============================] - 0s 24ms/step - loss: 0.1202 - val_loss: 0.1829\n",
      "Epoch 11/20\n",
      "1/1 [==============================] - 0s 26ms/step - loss: 0.1477 - val_loss: 0.1718\n",
      "Epoch 12/20\n",
      "1/1 [==============================] - 0s 24ms/step - loss: 0.0789 - val_loss: 0.1554\n",
      "Epoch 13/20\n",
      "1/1 [==============================] - 0s 30ms/step - loss: 0.0941 - val_loss: 0.1389\n",
      "Epoch 14/20\n",
      "1/1 [==============================] - 0s 25ms/step - loss: 0.1016 - val_loss: 0.1218\n",
      "Epoch 15/20\n",
      "1/1 [==============================] - 0s 43ms/step - loss: 0.0548 - val_loss: 0.1185\n",
      "Epoch 16/20\n",
      "1/1 [==============================] - 0s 38ms/step - loss: 0.0913 - val_loss: 0.1365\n",
      "Epoch 17/20\n",
      "1/1 [==============================] - 0s 41ms/step - loss: 0.1279 - val_loss: 0.1280\n",
      "Epoch 18/20\n",
      "1/1 [==============================] - 0s 33ms/step - loss: 0.0882 - val_loss: 0.1392\n",
      "Epoch 19/20\n",
      "1/1 [==============================] - 0s 41ms/step - loss: 0.0851 - val_loss: 0.1154\n",
      "Epoch 20/20\n",
      "1/1 [==============================] - 0s 41ms/step - loss: 0.0801 - val_loss: 0.1196\n"
     ]
    }
   ],
   "source": [
    "rms = RMSprop()\n",
    "model.compile(loss=contrastive_loss_with_margin(margin=1), optimizer=rms)\n",
    "history = model.fit([tr_pairs[:,0], tr_pairs[:,1]], tr_y, epochs=20, batch_size=128, validation_data=([ts_pairs[:,0], ts_pairs[:,1]], ts_y))\n"
   ]
  },
  {
   "cell_type": "code",
   "execution_count": 51,
   "id": "644a50dc",
   "metadata": {},
   "outputs": [],
   "source": [
    "def compute_accuracy(y_true, y_pred):\n",
    "    '''Compute classification accuracy with a fixed threshold on distances.\n",
    "    '''\n",
    "    pred = y_pred.ravel() > 0.5\n",
    "    return np.mean(pred == y_true)"
   ]
  },
  {
   "cell_type": "code",
   "execution_count": 52,
   "id": "201f6ba1",
   "metadata": {},
   "outputs": [
    {
     "name": "stdout",
     "output_type": "stream",
     "text": [
      "1/1 [==============================] - 0s 22ms/step - loss: 0.1196\n",
      "Loss = 0.11957667768001556, Train Accuracy = 0.0 Test Accuracy = 0.0\n"
     ]
    }
   ],
   "source": [
    "loss = model.evaluate(x=[ts_pairs[:,0],ts_pairs[:,1]], y=ts_y)\n",
    "\n",
    "y_pred_train = model.predict([tr_pairs[:,0], tr_pairs[:,1]])\n",
    "train_accuracy = compute_accuracy(tr_y, y_pred_train)\n",
    "\n",
    "y_pred_test = model.predict([ts_pairs[:,0], ts_pairs[:,1]])\n",
    "test_accuracy = compute_accuracy(ts_y, y_pred_test)\n",
    "\n",
    "print(\"Loss = {}, Train Accuracy = {} Test Accuracy = {}\".format(loss, train_accuracy, test_accuracy))\n"
   ]
  },
  {
   "cell_type": "code",
   "execution_count": 53,
   "id": "bc4ede0b",
   "metadata": {},
   "outputs": [
    {
     "data": {
      "image/png": "[encoded data removed]",
      "text/plain": [
       "<Figure size 432x288 with 1 Axes>"
      ]
     },
     "metadata": {
      "needs_background": "light"
     },
     "output_type": "display_data"
    }
   ],
   "source": [
    "def plot_metrics(metric_name, title, ylim=5):\n",
    "    plt.title(title)\n",
    "    plt.ylim(0,ylim)\n",
    "    plt.plot(history.history[metric_name],color='blue',label=metric_name)\n",
    "    plt.plot(history.history['val_' + metric_name],color='green',label='val_' + metric_name)\n",
    "\n",
    "\n",
    "plot_metrics(metric_name='loss', title=\"Loss\", ylim=0.2)"
   ]
  },
  {
   "cell_type": "code",
   "execution_count": 54,
   "id": "a88df23e",
   "metadata": {},
   "outputs": [],
   "source": [
    "# Matplotlib config\n",
    "def visualize_images():\n",
    "    plt.rc('image', cmap='gray_r')\n",
    "    plt.rc('grid', linewidth=0)\n",
    "    plt.rc('xtick', top=False, bottom=False, labelsize='large')\n",
    "    plt.rc('ytick', left=False, right=False, labelsize='large')\n",
    "    plt.rc('axes', facecolor='F8F8F8', titlesize=\"large\", edgecolor='white')\n",
    "    plt.rc('text', color='a8151a')\n",
    "    plt.rc('figure', facecolor='F0F0F0')# Matplotlib fonts\n",
    "\n",
    "\n",
    "# utility to display a row of digits with their predictions\n",
    "def display_images(left, right, predictions, labels, title, n):\n",
    "    plt.figure(figsize=(17,3))\n",
    "    plt.title(title)\n",
    "    plt.yticks([])\n",
    "    plt.xticks([])\n",
    "    plt.grid(None)\n",
    "    left = np.reshape(left, [n, 28, 28])\n",
    "    left = np.swapaxes(left, 0, 1)\n",
    "    left = np.reshape(left, [28, 28*n])\n",
    "    plt.imshow(left)\n",
    "    plt.figure(figsize=(17,3))\n",
    "    plt.yticks([])\n",
    "    plt.xticks([28*x+14 for x in range(n)], predictions)\n",
    "    for i,t in enumerate(plt.gca().xaxis.get_ticklabels()):\n",
    "        if predictions[i] > 0.5: t.set_color('red') # bad predictions in red\n",
    "    plt.grid(None)\n",
    "    right = np.reshape(right, [n, 28, 28])\n",
    "    right = np.swapaxes(right, 0, 1)\n",
    "    right = np.reshape(right, [28, 28*n])\n",
    "    plt.imshow(right)"
   ]
  },
  {
   "cell_type": "code",
   "execution_count": 55,
   "id": "56774562",
   "metadata": {},
   "outputs": [
    {
     "data": {
      "image/png": "[encoded data removed]",
      "text/plain": [
       "<Figure size 1224x216 with 1 Axes>"
      ]
     },
     "metadata": {},
     "output_type": "display_data"
    },
    {
     "data": {
      "image/png": "[encoded data removed]",
      "text/plain": [
       "<Figure size 1224x216 with 1 Axes>"
      ]
     },
     "metadata": {
      "needs_background": "light"
     },
     "output_type": "display_data"
    }
   ],
   "source": [
    "y_pred_train = np.squeeze(y_pred_train)\n",
    "indexes = np.random.choice(len(y_pred_train), size=10)\n",
    "display_images(tr_pairs[:, 0][indexes], tr_pairs[:, 1][indexes], y_pred_train[indexes], tr_y[indexes], \"clothes and their dissimilarity\", 10)"
   ]
  },
  {
   "cell_type": "code",
   "execution_count": null,
   "id": "54bec771",
   "metadata": {},
   "outputs": [],
   "source": []
  }
 ],
 "metadata": {
  "kernelspec": {
   "display_name": "Python 3 (ipykernel)",
   "language": "python",
   "name": "python3"
  },
  "language_info": {
   "codemirror_mode": {
    "name": "ipython",
    "version": 3
   },
   "file_extension": ".py",
   "mimetype": "text/x-python",
   "name": "python",
   "nbconvert_exporter": "python",
   "pygments_lexer": "ipython3",
   "version": "3.9.7"
  }
 },
 "nbformat": 4,
 "nbformat_minor": 5
}
