{
 "cells": [
  {
   "cell_type": "markdown",
   "id": "95926215",
   "metadata": {},
   "source": [
    "# HOW TO DETEERMINE THE VALUE OF K(no. of clusters)??\n",
    " ans- after taking cluster of two let say we have to calculate the sum of squared \n",
    "\n",
    " BUt as the no. of K increases the SSE tends to decrease so what value of K     should we choose????\n",
    " \n",
    " Find out the elbow in the graph of K and SSE \n",
    " \n",
    " understanding X in K means X(no. of training example, no. of feature )\n",
    " no. of feature defines the dimensions in k means algo.\n",
    "\n",
    " WHILE THE CLUSTERS IN K MEANS ALGO ARE MADE FROM DIFFERENT TRAINING EXAMPLES \n",
    "  so here we took centroid as centroids=np.zeros((self.K, self.num_features))\n",
    "    \n",
    "    1) initialize the random centroids to each cluster \n",
    "\n",
    "        2) take each sample and find the distance between sample and centroids \n",
    "        3) then assign the minimum distance centroid to that sample \n",
    "\n",
    "        4) do it for the whole sample\n",
    "\n",
    "        5) find the mean distance of each sample from their centroid \n",
    "\n",
    "        6) then update the centroid to the mean distance \n",
    "\n",
    "     then again repeat from step 2 \n"
   ]
  },
  {
   "cell_type": "code",
   "execution_count": 26,
   "id": "e92ad9b5",
   "metadata": {},
   "outputs": [
    {
     "name": "stdout",
     "output_type": "stream",
     "text": [
      "Termination criteria satisfied, K means has conversed\n"
     ]
    },
    {
     "data": {
      "image/png": "[encoded data removed]",
      "text/plain": [
       "<Figure size 432x288 with 1 Axes>"
      ]
     },
     "metadata": {
      "needs_background": "light"
     },
     "output_type": "display_data"
    }
   ],
   "source": [
    "# HOW TO DETEERMINE THE VALUE OF K(no. of clusters)??\n",
    "# ans- after taking cluster of two let say we have to calculate the sum of squared \n",
    "#error \n",
    "# BUt as the no. of K increases the SSE tends to decrease so what value of K should we choose????\n",
    "# Find out the elbow in the graph of K and SSE \n",
    "\n",
    "\n",
    "import numpy as np\n",
    "\n",
    "import matplotlib.pyplot as plt \n",
    "from sklearn.datasets import make_blobs\n",
    "#K means clustering \n",
    "class Kmeansclustering():\n",
    "    \n",
    "    def __init__(self,X,num_clusters):\n",
    "        \n",
    "        self.K=num_clusters\n",
    "        self.max_iterations=100\n",
    "        self.num_example, self.num_features =X.shape\n",
    "        \n",
    "    def initialize_random_centroids(self, X):\n",
    "        \n",
    "        centroids=np.zeros((self.K, self.num_features))\n",
    "        # clustering each features \n",
    "        # for k in range num_clusters \n",
    "                           \n",
    "        for k in range(self.K):\n",
    "            # assignoing centroid a random point of an example\n",
    "            # if the ith example is 2D then assigning 2D centroids\n",
    "            centroid=X[np.random.choice(range(self.num_example))]\n",
    "            centroids[k]=centroid\n",
    "            \n",
    "        return centroids\n",
    "\n",
    "            \n",
    "    def create_clusters(self,X,centroids):\n",
    "        clusters=[[] for _ in range(self.K)]\n",
    "        for point_index, point in enumerate(X):\n",
    "            closest_centroid= np.argmin(np.sqrt(np.sum((point- centroids)**2, axis=1)))\n",
    "            \n",
    "            \n",
    "            #euclidean_distrance(x1, x2):\n",
    "            #eucledian distance between two vectors x1 and x2\n",
    "            '''return np.sqrt(np.sum((x1-x2)**2))'''\n",
    "            clusters[closest_centroid].append(point_index)\n",
    "        return clusters \n",
    "                           \n",
    "    def calculate_new_centroids(self, clusters,X):\n",
    "        centroids=np.zeros((self.K,self.num_features))\n",
    "        \n",
    "        for idx, cluster in enumerate(clusters):\n",
    "            new_centroid=np.mean(X[cluster], axis=0)\n",
    "            centroids[idx]= new_centroid\n",
    "        return centroids\n",
    "            \n",
    "        \n",
    "    def predict_cluster(self,clusters,X):\n",
    "        y_pred=np.zeros(self.num_example)\n",
    "        for cluster_idx, cluster in enumerate(clusters):\n",
    "            for sample_idx in cluster:\n",
    "                y_pred[sample_idx]=cluster_idx\n",
    "                \n",
    "        return y_pred\n",
    "\n",
    "    def plot_fig(self,X,y):\n",
    "        plt.scatter(X[:,0], X[:,1], c=y,s=40, cmap=plt.cm.Spectral)\n",
    "        plt.show()\n",
    "        \n",
    "    def fit(self,X):\n",
    "        centroids= self.initialize_random_centroids(X)\n",
    "        \n",
    "        for i in range(self.max_iterations):\n",
    "            clusters=self.create_clusters(X,centroids)\n",
    "            \n",
    "            prev_centroids=centroids\n",
    "            centroids=self.calculate_new_centroids(clusters, X)\n",
    "            diff= centroids- prev_centroids \n",
    "            \n",
    "            if not diff.any():\n",
    "                print(\"Termination criteria satisfied, K means has conversed\")\n",
    "                break \n",
    "        y_pred=self.predict_cluster(clusters, X)\n",
    "\n",
    "        self.plot_fig(X,y_pred)\n",
    "        return y_pred\n",
    "    \n",
    "    \n",
    "if __name__=='__main__':\n",
    "    np.random.seed(10)\n",
    "    num_clusters= 3\n",
    "    X,_=make_blobs(n_samples=1000, n_features=2, centers=num_clusters)\n",
    "    \n",
    "    KMeans=Kmeansclustering(X,num_clusters)\n",
    "    y_pred=KMeans.fit(X)\n",
    "    "
   ]
  },
  {
   "cell_type": "code",
   "execution_count": null,
   "id": "942acbed",
   "metadata": {},
   "outputs": [],
   "source": []
  }
 ],
 "metadata": {
  "kernelspec": {
   "display_name": "Python 3 (ipykernel)",
   "language": "python",
   "name": "python3"
  },
  "language_info": {
   "codemirror_mode": {
    "name": "ipython",
    "version": 3
   },
   "file_extension": ".py",
   "mimetype": "text/x-python",
   "name": "python",
   "nbconvert_exporter": "python",
   "pygments_lexer": "ipython3",
   "version": "3.9.7"
  }
 },
 "nbformat": 4,
 "nbformat_minor": 5
}
